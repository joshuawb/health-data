{
 "cells": [
  {
   "cell_type": "code",
   "execution_count": null,
   "id": "6ba0c4d3",
   "metadata": {},
   "outputs": [
    {
     "name": "stdout",
     "output_type": "stream",
     "text": [
      "                                     type       sourceName sourceVersion  \\\n",
      "303213  HKQuantityTypeIdentifierStepCount  Joshua’s iPhone          16.5   \n",
      "303214  HKQuantityTypeIdentifierStepCount  Joshua’s iPhone          16.5   \n",
      "303215  HKQuantityTypeIdentifierStepCount  Joshua’s iPhone          16.5   \n",
      "303216  HKQuantityTypeIdentifierStepCount  Joshua’s iPhone          16.5   \n",
      "303217  HKQuantityTypeIdentifierStepCount  Joshua’s iPhone          16.5   \n",
      "\n",
      "         unit               creationDate                 startDate  \\\n",
      "303213  count  2023-07-23 18:22:34 +1200 2023-07-23 18:10:27+12:00   \n",
      "303214  count  2023-07-23 18:31:38 +1200 2023-07-23 18:20:36+12:00   \n",
      "303215  count  2023-07-23 18:53:02 +1200 2023-07-23 18:41:59+12:00   \n",
      "303216  count  2023-07-23 19:11:06 +1200 2023-07-23 19:00:07+12:00   \n",
      "303217  count  2023-07-23 19:21:24 +1200 2023-07-23 19:10:21+12:00   \n",
      "\n",
      "                         endDate value  \\\n",
      "303213 2023-07-23 18:19:09+12:00   186   \n",
      "303214 2023-07-23 18:21:37+12:00    61   \n",
      "303215 2023-07-23 18:44:55+12:00    52   \n",
      "303216 2023-07-23 19:00:58+12:00    16   \n",
      "303217 2023-07-23 19:11:45+12:00    26   \n",
      "\n",
      "                                                   device  \n",
      "303213  <<HKDevice: 0x7afaf8960>, name:iPhone, manufac...  \n",
      "303214  <<HKDevice: 0x7afaf8960>, name:iPhone, manufac...  \n",
      "303215  <<HKDevice: 0x7afaf8960>, name:iPhone, manufac...  \n",
      "303216  <<HKDevice: 0x7afaf8960>, name:iPhone, manufac...  \n",
      "303217  <<HKDevice: 0x7afaf8960>, name:iPhone, manufac...  \n"
     ]
    },
    {
     "name": "stderr",
     "output_type": "stream",
     "text": [
      "/var/folders/px/_2z1qz3x6cv7xwyzftndxrv00000gn/T/ipykernel_31189/1922317984.py:19: SettingWithCopyWarning: \n",
      "A value is trying to be set on a copy of a slice from a DataFrame.\n",
      "Try using .loc[row_indexer,col_indexer] = value instead\n",
      "\n",
      "See the caveats in the documentation: https://pandas.pydata.org/pandas-docs/stable/user_guide/indexing.html#returning-a-view-versus-a-copy\n",
      "  steps_df['startDate'] = pd.to_datetime(steps_df['startDate'])\n",
      "/var/folders/px/_2z1qz3x6cv7xwyzftndxrv00000gn/T/ipykernel_31189/1922317984.py:20: SettingWithCopyWarning: \n",
      "A value is trying to be set on a copy of a slice from a DataFrame.\n",
      "Try using .loc[row_indexer,col_indexer] = value instead\n",
      "\n",
      "See the caveats in the documentation: https://pandas.pydata.org/pandas-docs/stable/user_guide/indexing.html#returning-a-view-versus-a-copy\n",
      "  steps_df['endDate'] = pd.to_datetime(steps_df['endDate'])\n"
     ]
    }
   ],
   "source": [
    "import xml.etree.ElementTree as ET\n",
    "import pandas as pd\n",
    "\n",
    "## load and parse XML\n",
    "tree = ET.parse('export.xml')\n",
    "root = tree.getroot()\n",
    "\n",
    "# Extract all records\n",
    "records = []\n",
    "for record in root.findall('Record'):\n",
    "    records.append(record.attrib)\n",
    "\n",
    "df = pd.DataFrame(records)\n"
   ]
  },
  {
   "cell_type": "code",
   "execution_count": 8,
   "id": "1bb96f67",
   "metadata": {},
   "outputs": [
    {
     "name": "stdout",
     "output_type": "stream",
     "text": [
      "<class 'pandas.core.frame.DataFrame'>\n",
      "RangeIndex: 1803664 entries, 0 to 1803663\n",
      "Data columns (total 9 columns):\n",
      " #   Column         Dtype \n",
      "---  ------         ----- \n",
      " 0   type           object\n",
      " 1   sourceName     object\n",
      " 2   sourceVersion  object\n",
      " 3   unit           object\n",
      " 4   creationDate   object\n",
      " 5   startDate      object\n",
      " 6   endDate        object\n",
      " 7   value          object\n",
      " 8   device         object\n",
      "dtypes: object(9)\n",
      "memory usage: 123.8+ MB\n"
     ]
    },
    {
     "data": {
      "text/plain": [
       "Index(['type', 'sourceName', 'sourceVersion', 'unit', 'creationDate',\n",
       "       'startDate', 'endDate', 'value', 'device'],\n",
       "      dtype='object')"
      ]
     },
     "execution_count": 8,
     "metadata": {},
     "output_type": "execute_result"
    }
   ],
   "source": [
    "df.head()\n",
    "df.info()\n",
    "df.describe()\n",
    "df.columns"
   ]
  },
  {
   "cell_type": "code",
   "execution_count": null,
   "id": "44172eb2",
   "metadata": {},
   "outputs": [],
   "source": [
    "import xml.etree.ElementTree as ET\n",
    "import pandas as pd\n",
    "import matplotlib.pyplot as plt\n",
    "from datetime import datetime\n",
    "\n",
    "# === Load XML ===\n",
    "tree = ET.parse('export.xml')\n",
    "root = tree.getroot()\n",
    "\n",
    "# === Extract Step Count from Apple Watch ===\n",
    "records = []\n",
    "for record in root.findall('Record'):\n",
    "    if (record.attrib['type'] == 'HKQuantityTypeIdentifierStepCount' and\n",
    "        'Watch' in record.attrib.get('sourceName', '')):\n",
    "        records.append({\n",
    "            'value': float(record.attrib['value']),\n",
    "            'startDate': pd.to_datetime(record.attrib['startDate']),\n",
    "            'endDate': pd.to_datetime(record.attrib['endDate']),\n",
    "            'source': record.attrib['sourceName']\n",
    "        })\n",
    "\n",
    "# === Create DataFrame ===\n",
    "df_steps = pd.DataFrame(records)\n",
    "df_steps['date'] = df_steps['startDate'].dt.date\n",
    "daily_steps = df_steps.groupby('date')['value'].sum().reset_index()\n",
    "\n",
    "# === Rolling Average ===\n",
    "daily_steps['rolling_avg'] = daily_steps['value'].rolling(window=7, center=True).mean()\n",
    "\n",
    "# === Plot ===\n",
    "plt.figure(figsize=(14,6))\n",
    "plt.plot(daily_steps['date'], daily_steps['value'], label='Daily Steps', alpha=0.4)\n",
    "plt.plot(daily_steps['date'], daily_steps['rolling_avg'], label='7-Day Rolling Avg', linewidth=2)\n",
    "\n",
    "# === Highlight Date Ranges ===\n",
    "highlight_ranges = [\n",
    "    (\"2023-11-09\", \"2023-12-09\"),\n",
    "    (\"2024-10-01\", \"2024-11-01\"),\n",
    "    (\"2025-02-07\", \"2025-03-28\")\n",
    "]\n",
    "\n",
    "for start_str, end_str in highlight_ranges:\n",
    "    start = pd.to_datetime(start_str)\n",
    "    end = pd.to_datetime(end_str)\n",
    "    plt.axvspan(start, end, color='orange', alpha=0.2, label=f\"{start.date()} to {end.date()}\")\n",
    "\n",
    "# === Final Plot Settings ===\n",
    "plt.title('Daily Step Count (Apple Watch Only)')\n",
    "plt.xlabel('Date')\n",
    "plt.ylabel('Steps')\n",
    "plt.xticks(rotation=45)\n",
    "plt.grid(True)\n",
    "plt.tight_layout()\n",
    "plt.legend(loc='upper left')\n",
    "plt.show()\n",
    "\n"
   ]
  },
  {
   "cell_type": "code",
   "execution_count": null,
   "id": "50710b33",
   "metadata": {},
   "outputs": [
    {
     "name": "stdout",
     "output_type": "stream",
     "text": [
      "{'Joshua’s iPhone', 'JB Watch'}\n"
     ]
    }
   ],
   "source": [
    "# List all unique sources for step count records\n",
    "source_names = set()\n",
    "for record in root.findall('Record'):\n",
    "    if record.attrib['type'] == 'HKQuantityTypeIdentifierStepCount':\n",
    "        source_names.add(record.attrib.get('sourceName'))\n",
    "\n",
    "print(source_names)\n",
    "\n",
    "## Needed to add condition that step count comes from watch only otherwise it is inflated by the phone records. "
   ]
  }
 ],
 "metadata": {
  "kernelspec": {
   "display_name": "Python 3",
   "language": "python",
   "name": "python3"
  },
  "language_info": {
   "codemirror_mode": {
    "name": "ipython",
    "version": 3
   },
   "file_extension": ".py",
   "mimetype": "text/x-python",
   "name": "python",
   "nbconvert_exporter": "python",
   "pygments_lexer": "ipython3",
   "version": "3.12.4"
  }
 },
 "nbformat": 4,
 "nbformat_minor": 5
}
